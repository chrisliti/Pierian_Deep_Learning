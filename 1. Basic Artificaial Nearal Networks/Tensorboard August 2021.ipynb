{
 "cells": [
  {
   "cell_type": "code",
   "execution_count": 1,
   "id": "c63b6584",
   "metadata": {},
   "outputs": [],
   "source": [
    "import pandas as pd\n",
    "import numpy as np\n",
    "\n",
    "import matplotlib.pyplot as plt\n",
    "import seaborn as sns\n",
    "\n",
    "import os"
   ]
  },
  {
   "cell_type": "code",
   "execution_count": 2,
   "id": "294c08eb",
   "metadata": {},
   "outputs": [],
   "source": [
    "#os.chdir(\"E:/[DesireCourse.Net] Udemy - Complete Tensorflow 2 and Keras Deep Learning Bootcamp/1. Course Overview, Installs, and Setup/2.1 FINAL_TF2_FILES.zip/TF_2_Notebooks_and_Data/DATA\")"
   ]
  },
  {
   "cell_type": "code",
   "execution_count": 3,
   "id": "3523cf6a",
   "metadata": {},
   "outputs": [],
   "source": [
    "df = pd.read_csv(\"E:/[DesireCourse.Net] Udemy - Complete Tensorflow 2 and Keras Deep Learning Bootcamp/1. Course Overview, Installs, and Setup/2.1 FINAL_TF2_FILES.zip/TF_2_Notebooks_and_Data/DATA/cancer_classification.csv\")"
   ]
  },
  {
   "cell_type": "code",
   "execution_count": 4,
   "id": "c58884e8",
   "metadata": {},
   "outputs": [],
   "source": [
    "X = df.drop(\"benign_0__mal_1\",axis=1).values\n",
    "y = df[\"benign_0__mal_1\"].values"
   ]
  },
  {
   "cell_type": "code",
   "execution_count": 5,
   "id": "6852ad0f",
   "metadata": {},
   "outputs": [],
   "source": [
    "from sklearn.model_selection import train_test_split\n",
    "\n",
    "X_train, X_test, y_train, y_test = train_test_split(X, y, test_size=0.25, random_state=101)"
   ]
  },
  {
   "cell_type": "code",
   "execution_count": 6,
   "id": "dfce4458",
   "metadata": {},
   "outputs": [],
   "source": [
    "from sklearn.preprocessing import MinMaxScaler\n",
    "\n",
    "scaler = MinMaxScaler()\n",
    "\n",
    "X_train = scaler.fit_transform(X_train)\n",
    "\n",
    "X_test = scaler.transform(X_test)"
   ]
  },
  {
   "cell_type": "code",
   "execution_count": 7,
   "id": "69cd7227",
   "metadata": {},
   "outputs": [],
   "source": [
    "from tensorflow.keras.models import Sequential\n",
    "from tensorflow.keras.layers import Dense, Dropout, Activation"
   ]
  },
  {
   "cell_type": "code",
   "execution_count": 8,
   "id": "1e446e8a",
   "metadata": {},
   "outputs": [],
   "source": [
    "from tensorflow.keras.callbacks import EarlyStopping, TensorBoard"
   ]
  },
  {
   "cell_type": "code",
   "execution_count": 9,
   "id": "fb010bb7",
   "metadata": {},
   "outputs": [],
   "source": [
    "early_stop = EarlyStopping(monitor=\"val_loss\",mode=\"min\",verbose=1,patience=25)"
   ]
  },
  {
   "cell_type": "code",
   "execution_count": 10,
   "id": "162f0700",
   "metadata": {},
   "outputs": [
    {
     "data": {
      "text/plain": [
       "'C:\\\\Users\\\\chris'"
      ]
     },
     "execution_count": 10,
     "metadata": {},
     "output_type": "execute_result"
    }
   ],
   "source": [
    "pwd"
   ]
  },
  {
   "cell_type": "code",
   "execution_count": 11,
   "id": "63a06ecf",
   "metadata": {},
   "outputs": [],
   "source": [
    "from datetime import datetime"
   ]
  },
  {
   "cell_type": "code",
   "execution_count": 12,
   "id": "3227e537",
   "metadata": {},
   "outputs": [
    {
     "data": {
      "text/plain": [
       "'2021-08-02--1339'"
      ]
     },
     "execution_count": 12,
     "metadata": {},
     "output_type": "execute_result"
    }
   ],
   "source": [
    "datetime.now().strftime(\"%Y-%m-%d--%H%M\")"
   ]
  },
  {
   "cell_type": "code",
   "execution_count": 13,
   "id": "970b6fd0",
   "metadata": {},
   "outputs": [],
   "source": [
    "log_directory = \"logs\\\\fit\""
   ]
  },
  {
   "cell_type": "code",
   "execution_count": 14,
   "id": "2f5ecdcf",
   "metadata": {},
   "outputs": [],
   "source": [
    "board = TensorBoard(log_dir=log_directory,\n",
    "                   histogram_freq=1,\n",
    "                   write_graph=True,\n",
    "                   write_images=True,\n",
    "                   update_freq='epoch',\n",
    "                   profile_batch=2,\n",
    "                   embeddings_freq=1)"
   ]
  },
  {
   "cell_type": "code",
   "execution_count": 15,
   "id": "4659851a",
   "metadata": {},
   "outputs": [],
   "source": [
    "model = Sequential()\n",
    "\n",
    "model.add(Dense(30,activation=\"relu\"))\n",
    "model.add(Dropout(rate=0.5))\n",
    "\n",
    "model.add(Dense(15,activation=\"relu\"))\n",
    "model.add(Dropout(rate=0.5))\n",
    "\n",
    "## Binary classification\n",
    "\n",
    "model.add(Dense(1,activation=\"sigmoid\"))\n",
    "\n",
    "model.compile(loss=\"binary_crossentropy\",optimizer=\"adam\")"
   ]
  },
  {
   "cell_type": "code",
   "execution_count": 16,
   "id": "2f337634",
   "metadata": {},
   "outputs": [
    {
     "name": "stdout",
     "output_type": "stream",
     "text": [
      "Train on 426 samples, validate on 143 samples\n",
      "Epoch 1/600\n",
      "426/426 [==============================] - 2s 5ms/sample - loss: 0.7089 - val_loss: 0.6656\n",
      "Epoch 2/600\n",
      "426/426 [==============================] - 0s 879us/sample - loss: 0.6966 - val_loss: 0.6532\n",
      "Epoch 3/600\n",
      "426/426 [==============================] - 0s 925us/sample - loss: 0.6670 - val_loss: 0.6376\n",
      "Epoch 4/600\n",
      "426/426 [==============================] - 0s 1ms/sample - loss: 0.6419 - val_loss: 0.6169\n",
      "Epoch 5/600\n",
      "426/426 [==============================] - 0s 831us/sample - loss: 0.6320 - val_loss: 0.5924\n",
      "Epoch 6/600\n",
      "426/426 [==============================] - 0s 881us/sample - loss: 0.6213 - val_loss: 0.5675\n",
      "Epoch 7/600\n",
      "426/426 [==============================] - 0s 891us/sample - loss: 0.5854 - val_loss: 0.5477\n",
      "Epoch 8/600\n",
      "426/426 [==============================] - 0s 876us/sample - loss: 0.5762 - val_loss: 0.5197\n",
      "Epoch 9/600\n",
      "426/426 [==============================] - 0s 831us/sample - loss: 0.5269 - val_loss: 0.4867\n",
      "Epoch 10/600\n",
      "426/426 [==============================] - 0s 1ms/sample - loss: 0.5183 - val_loss: 0.4498\n",
      "Epoch 11/600\n",
      "426/426 [==============================] - 0s 972us/sample - loss: 0.4852 - val_loss: 0.4143\n",
      "Epoch 12/600\n",
      "426/426 [==============================] - 0s 1ms/sample - loss: 0.4612 - val_loss: 0.3830\n",
      "Epoch 13/600\n",
      "426/426 [==============================] - 0s 851us/sample - loss: 0.4297 - val_loss: 0.3528\n",
      "Epoch 14/600\n",
      "426/426 [==============================] - 0s 833us/sample - loss: 0.4107 - val_loss: 0.3251\n",
      "Epoch 15/600\n",
      "426/426 [==============================] - 0s 924us/sample - loss: 0.3900 - val_loss: 0.2992\n",
      "Epoch 16/600\n",
      "426/426 [==============================] - 0s 902us/sample - loss: 0.3678 - val_loss: 0.2753\n",
      "Epoch 17/600\n",
      "426/426 [==============================] - 0s 767us/sample - loss: 0.3425 - val_loss: 0.2546\n",
      "Epoch 18/600\n",
      "426/426 [==============================] - 0s 935us/sample - loss: 0.3453 - val_loss: 0.2393\n",
      "Epoch 19/600\n",
      "426/426 [==============================] - 0s 707us/sample - loss: 0.3032 - val_loss: 0.2245\n",
      "Epoch 20/600\n",
      "426/426 [==============================] - 0s 777us/sample - loss: 0.3117 - val_loss: 0.2126\n",
      "Epoch 21/600\n",
      "426/426 [==============================] - 0s 902us/sample - loss: 0.3086 - val_loss: 0.2017\n",
      "Epoch 22/600\n",
      "426/426 [==============================] - 0s 947us/sample - loss: 0.2756 - val_loss: 0.1914\n",
      "Epoch 23/600\n",
      "426/426 [==============================] - 0s 745us/sample - loss: 0.2588 - val_loss: 0.1836\n",
      "Epoch 24/600\n",
      "426/426 [==============================] - 1s 1ms/sample - loss: 0.2681 - val_loss: 0.1772\n",
      "Epoch 25/600\n",
      "426/426 [==============================] - 0s 1ms/sample - loss: 0.2664 - val_loss: 0.1686\n",
      "Epoch 26/600\n",
      "426/426 [==============================] - 0s 826us/sample - loss: 0.2545 - val_loss: 0.1663\n",
      "Epoch 27/600\n",
      "426/426 [==============================] - 0s 849us/sample - loss: 0.2404 - val_loss: 0.1613\n",
      "Epoch 28/600\n",
      "426/426 [==============================] - 0s 825us/sample - loss: 0.2409 - val_loss: 0.1539\n",
      "Epoch 29/600\n",
      "426/426 [==============================] - 1s 1ms/sample - loss: 0.2195 - val_loss: 0.1489\n",
      "Epoch 30/600\n",
      "426/426 [==============================] - 0s 1ms/sample - loss: 0.2238 - val_loss: 0.1430\n",
      "Epoch 31/600\n",
      "426/426 [==============================] - 0s 854us/sample - loss: 0.2223 - val_loss: 0.1490\n",
      "Epoch 32/600\n",
      "426/426 [==============================] - 0s 957us/sample - loss: 0.2153 - val_loss: 0.1360\n",
      "Epoch 33/600\n",
      "426/426 [==============================] - 0s 853us/sample - loss: 0.2063 - val_loss: 0.1370\n",
      "Epoch 34/600\n",
      "426/426 [==============================] - 0s 903us/sample - loss: 0.1791 - val_loss: 0.1336\n",
      "Epoch 35/600\n",
      "426/426 [==============================] - 0s 1ms/sample - loss: 0.1986 - val_loss: 0.1361\n",
      "Epoch 36/600\n",
      "426/426 [==============================] - 0s 877us/sample - loss: 0.1828 - val_loss: 0.1256\n",
      "Epoch 37/600\n",
      "426/426 [==============================] - 0s 752us/sample - loss: 0.1997 - val_loss: 0.1215\n",
      "Epoch 38/600\n",
      "426/426 [==============================] - 0s 875us/sample - loss: 0.2045 - val_loss: 0.1255\n",
      "Epoch 39/600\n",
      "426/426 [==============================] - 0s 879us/sample - loss: 0.2068 - val_loss: 0.1275\n",
      "Epoch 40/600\n",
      "426/426 [==============================] - 0s 930us/sample - loss: 0.1685 - val_loss: 0.1155\n",
      "Epoch 41/600\n",
      "426/426 [==============================] - 0s 850us/sample - loss: 0.1754 - val_loss: 0.1208\n",
      "Epoch 42/600\n",
      "426/426 [==============================] - 0s 795us/sample - loss: 0.1777 - val_loss: 0.1151\n",
      "Epoch 43/600\n",
      "426/426 [==============================] - 0s 939us/sample - loss: 0.1661 - val_loss: 0.1157\n",
      "Epoch 44/600\n",
      "426/426 [==============================] - 0s 904us/sample - loss: 0.1455 - val_loss: 0.1226\n",
      "Epoch 45/600\n",
      "426/426 [==============================] - 0s 1ms/sample - loss: 0.1614 - val_loss: 0.1165\n",
      "Epoch 46/600\n",
      "426/426 [==============================] - 0s 854us/sample - loss: 0.1551 - val_loss: 0.1074\n",
      "Epoch 47/600\n",
      "426/426 [==============================] - 0s 877us/sample - loss: 0.1656 - val_loss: 0.1184\n",
      "Epoch 48/600\n",
      "426/426 [==============================] - 0s 851us/sample - loss: 0.1386 - val_loss: 0.1118\n",
      "Epoch 49/600\n",
      "426/426 [==============================] - 1s 1ms/sample - loss: 0.1458 - val_loss: 0.1096\n",
      "Epoch 50/600\n",
      "426/426 [==============================] - 0s 1ms/sample - loss: 0.1488 - val_loss: 0.1049\n",
      "Epoch 51/600\n",
      "426/426 [==============================] - 0s 927us/sample - loss: 0.1498 - val_loss: 0.1112\n",
      "Epoch 52/600\n",
      "426/426 [==============================] - 0s 1ms/sample - loss: 0.1463 - val_loss: 0.1112\n",
      "Epoch 53/600\n",
      "426/426 [==============================] - 0s 894us/sample - loss: 0.1431 - val_loss: 0.1079\n",
      "Epoch 54/600\n",
      "426/426 [==============================] - 0s 845us/sample - loss: 0.1349 - val_loss: 0.1084\n",
      "Epoch 55/600\n",
      "426/426 [==============================] - 0s 891us/sample - loss: 0.1614 - val_loss: 0.1077\n",
      "Epoch 56/600\n",
      "426/426 [==============================] - 0s 954us/sample - loss: 0.1458 - val_loss: 0.1025\n",
      "Epoch 57/600\n",
      "426/426 [==============================] - 0s 902us/sample - loss: 0.1480 - val_loss: 0.1071\n",
      "Epoch 58/600\n",
      "426/426 [==============================] - 0s 843us/sample - loss: 0.1339 - val_loss: 0.1053\n",
      "Epoch 59/600\n",
      "426/426 [==============================] - 0s 978us/sample - loss: 0.1200 - val_loss: 0.1041\n",
      "Epoch 60/600\n",
      "426/426 [==============================] - 1s 1ms/sample - loss: 0.1172 - val_loss: 0.1077\n",
      "Epoch 61/600\n",
      "426/426 [==============================] - 0s 770us/sample - loss: 0.1207 - val_loss: 0.1027\n",
      "Epoch 62/600\n",
      "426/426 [==============================] - 0s 1ms/sample - loss: 0.1346 - val_loss: 0.1011\n",
      "Epoch 63/600\n",
      "426/426 [==============================] - 0s 975us/sample - loss: 0.1288 - val_loss: 0.1094\n",
      "Epoch 64/600\n",
      "426/426 [==============================] - 0s 1ms/sample - loss: 0.1476 - val_loss: 0.1027\n",
      "Epoch 65/600\n",
      "426/426 [==============================] - 0s 1ms/sample - loss: 0.1230 - val_loss: 0.1061\n",
      "Epoch 66/600\n",
      "426/426 [==============================] - 0s 1ms/sample - loss: 0.1037 - val_loss: 0.1147\n",
      "Epoch 67/600\n",
      "426/426 [==============================] - 0s 1ms/sample - loss: 0.1142 - val_loss: 0.1044\n",
      "Epoch 68/600\n",
      "426/426 [==============================] - 0s 1ms/sample - loss: 0.1192 - val_loss: 0.1033\n",
      "Epoch 69/600\n",
      "426/426 [==============================] - 0s 920us/sample - loss: 0.1348 - val_loss: 0.1015\n",
      "Epoch 70/600\n",
      "426/426 [==============================] - 0s 924us/sample - loss: 0.1236 - val_loss: 0.1074\n",
      "Epoch 71/600\n",
      "426/426 [==============================] - 1s 1ms/sample - loss: 0.1184 - val_loss: 0.1021\n",
      "Epoch 72/600\n",
      "426/426 [==============================] - 0s 802us/sample - loss: 0.1229 - val_loss: 0.1032\n",
      "Epoch 73/600\n",
      "426/426 [==============================] - 0s 1ms/sample - loss: 0.0987 - val_loss: 0.0989\n",
      "Epoch 74/600\n",
      "426/426 [==============================] - 0s 1ms/sample - loss: 0.1326 - val_loss: 0.0973\n",
      "Epoch 75/600\n",
      "426/426 [==============================] - 0s 1ms/sample - loss: 0.1048 - val_loss: 0.1017\n",
      "Epoch 76/600\n",
      "426/426 [==============================] - 0s 898us/sample - loss: 0.1148 - val_loss: 0.1028\n",
      "Epoch 77/600\n",
      "426/426 [==============================] - 0s 1ms/sample - loss: 0.1070 - val_loss: 0.0965\n",
      "Epoch 78/600\n"
     ]
    },
    {
     "name": "stdout",
     "output_type": "stream",
     "text": [
      "426/426 [==============================] - 0s 903us/sample - loss: 0.1125 - val_loss: 0.0979\n",
      "Epoch 79/600\n",
      "426/426 [==============================] - 0s 794us/sample - loss: 0.1207 - val_loss: 0.1099\n",
      "Epoch 80/600\n",
      "426/426 [==============================] - 0s 888us/sample - loss: 0.1000 - val_loss: 0.0978\n",
      "Epoch 81/600\n",
      "426/426 [==============================] - 0s 1ms/sample - loss: 0.0926 - val_loss: 0.1072\n",
      "Epoch 82/600\n",
      "426/426 [==============================] - 0s 883us/sample - loss: 0.1088 - val_loss: 0.1023\n",
      "Epoch 83/600\n",
      "426/426 [==============================] - 0s 799us/sample - loss: 0.0959 - val_loss: 0.0995\n",
      "Epoch 84/600\n",
      "426/426 [==============================] - 0s 825us/sample - loss: 0.0898 - val_loss: 0.1005\n",
      "Epoch 85/600\n",
      "426/426 [==============================] - 0s 1ms/sample - loss: 0.0951 - val_loss: 0.1096\n",
      "Epoch 86/600\n",
      "426/426 [==============================] - 0s 886us/sample - loss: 0.0965 - val_loss: 0.1147\n",
      "Epoch 87/600\n",
      "426/426 [==============================] - 0s 982us/sample - loss: 0.1012 - val_loss: 0.0952\n",
      "Epoch 88/600\n",
      "426/426 [==============================] - 0s 1ms/sample - loss: 0.1030 - val_loss: 0.1043\n",
      "Epoch 89/600\n",
      "426/426 [==============================] - 0s 1ms/sample - loss: 0.1131 - val_loss: 0.1082\n",
      "Epoch 90/600\n",
      "426/426 [==============================] - 0s 880us/sample - loss: 0.1267 - val_loss: 0.0967\n",
      "Epoch 91/600\n",
      "426/426 [==============================] - 1s 1ms/sample - loss: 0.1036 - val_loss: 0.1091\n",
      "Epoch 92/600\n",
      "426/426 [==============================] - 0s 869us/sample - loss: 0.0956 - val_loss: 0.0961\n",
      "Epoch 93/600\n",
      "426/426 [==============================] - 0s 831us/sample - loss: 0.1025 - val_loss: 0.0951\n",
      "Epoch 94/600\n",
      "426/426 [==============================] - 0s 902us/sample - loss: 0.1032 - val_loss: 0.0985\n",
      "Epoch 95/600\n",
      "426/426 [==============================] - 0s 851us/sample - loss: 0.1074 - val_loss: 0.1045\n",
      "Epoch 96/600\n",
      "426/426 [==============================] - 0s 812us/sample - loss: 0.1083 - val_loss: 0.1005\n",
      "Epoch 97/600\n",
      "426/426 [==============================] - 0s 820us/sample - loss: 0.0999 - val_loss: 0.1001\n",
      "Epoch 98/600\n",
      "426/426 [==============================] - 0s 1ms/sample - loss: 0.0959 - val_loss: 0.0940\n",
      "Epoch 99/600\n",
      "426/426 [==============================] - 0s 829us/sample - loss: 0.1044 - val_loss: 0.1098\n",
      "Epoch 100/600\n",
      "426/426 [==============================] - 0s 876us/sample - loss: 0.0973 - val_loss: 0.1047\n",
      "Epoch 101/600\n",
      "426/426 [==============================] - 1s 1ms/sample - loss: 0.0968 - val_loss: 0.0942\n",
      "Epoch 102/600\n",
      "426/426 [==============================] - 0s 872us/sample - loss: 0.1109 - val_loss: 0.0981\n",
      "Epoch 103/600\n",
      "426/426 [==============================] - 0s 876us/sample - loss: 0.0932 - val_loss: 0.1037\n",
      "Epoch 104/600\n",
      "426/426 [==============================] - 0s 1ms/sample - loss: 0.0870 - val_loss: 0.1028\n",
      "Epoch 105/600\n",
      "426/426 [==============================] - 0s 981us/sample - loss: 0.1067 - val_loss: 0.1078\n",
      "Epoch 106/600\n",
      "426/426 [==============================] - 0s 899us/sample - loss: 0.1034 - val_loss: 0.0917\n",
      "Epoch 107/600\n",
      "426/426 [==============================] - 0s 974us/sample - loss: 0.0870 - val_loss: 0.1023\n",
      "Epoch 108/600\n",
      "426/426 [==============================] - 0s 904us/sample - loss: 0.1057 - val_loss: 0.0975\n",
      "Epoch 109/600\n",
      "426/426 [==============================] - 0s 916us/sample - loss: 0.0958 - val_loss: 0.1034\n",
      "Epoch 110/600\n",
      "426/426 [==============================] - 0s 902us/sample - loss: 0.0864 - val_loss: 0.1058\n",
      "Epoch 111/600\n",
      "426/426 [==============================] - 0s 900us/sample - loss: 0.0985 - val_loss: 0.1132\n",
      "Epoch 112/600\n",
      "426/426 [==============================] - 0s 805us/sample - loss: 0.0836 - val_loss: 0.1305\n",
      "Epoch 113/600\n",
      "426/426 [==============================] - 0s 724us/sample - loss: 0.1128 - val_loss: 0.1136\n",
      "Epoch 114/600\n",
      "426/426 [==============================] - 0s 818us/sample - loss: 0.0852 - val_loss: 0.0945\n",
      "Epoch 115/600\n",
      "426/426 [==============================] - 0s 849us/sample - loss: 0.0900 - val_loss: 0.0909\n",
      "Epoch 116/600\n",
      "426/426 [==============================] - 0s 825us/sample - loss: 0.1029 - val_loss: 0.1018\n",
      "Epoch 117/600\n",
      "426/426 [==============================] - 0s 824us/sample - loss: 0.0815 - val_loss: 0.1071\n",
      "Epoch 118/600\n",
      "426/426 [==============================] - 0s 970us/sample - loss: 0.0906 - val_loss: 0.1062\n",
      "Epoch 119/600\n",
      "426/426 [==============================] - 0s 897us/sample - loss: 0.0941 - val_loss: 0.0912\n",
      "Epoch 120/600\n",
      "426/426 [==============================] - 0s 852us/sample - loss: 0.0911 - val_loss: 0.0925\n",
      "Epoch 121/600\n",
      "426/426 [==============================] - 0s 771us/sample - loss: 0.0872 - val_loss: 0.1063\n",
      "Epoch 122/600\n",
      "426/426 [==============================] - 0s 744us/sample - loss: 0.0872 - val_loss: 0.0999\n",
      "Epoch 123/600\n",
      "426/426 [==============================] - 0s 1ms/sample - loss: 0.0729 - val_loss: 0.0920\n",
      "Epoch 124/600\n",
      "426/426 [==============================] - 1s 1ms/sample - loss: 0.0936 - val_loss: 0.0919\n",
      "Epoch 125/600\n",
      "426/426 [==============================] - 0s 927us/sample - loss: 0.0783 - val_loss: 0.1020\n",
      "Epoch 126/600\n",
      "426/426 [==============================] - 0s 1ms/sample - loss: 0.0817 - val_loss: 0.1115\n",
      "Epoch 127/600\n",
      "426/426 [==============================] - 0s 764us/sample - loss: 0.0875 - val_loss: 0.0939\n",
      "Epoch 128/600\n",
      "426/426 [==============================] - 0s 781us/sample - loss: 0.0942 - val_loss: 0.1099\n",
      "Epoch 129/600\n",
      "426/426 [==============================] - 0s 843us/sample - loss: 0.0914 - val_loss: 0.1157\n",
      "Epoch 130/600\n",
      "426/426 [==============================] - 0s 818us/sample - loss: 0.0854 - val_loss: 0.0936\n",
      "Epoch 131/600\n",
      "426/426 [==============================] - 0s 897us/sample - loss: 0.1048 - val_loss: 0.1000\n",
      "Epoch 132/600\n",
      "426/426 [==============================] - 0s 984us/sample - loss: 0.0673 - val_loss: 0.0912\n",
      "Epoch 133/600\n",
      "426/426 [==============================] - 0s 953us/sample - loss: 0.0801 - val_loss: 0.0991\n",
      "Epoch 134/600\n",
      "426/426 [==============================] - 0s 826us/sample - loss: 0.0998 - val_loss: 0.0934\n",
      "Epoch 135/600\n",
      "426/426 [==============================] - 0s 933us/sample - loss: 0.0745 - val_loss: 0.1089\n",
      "Epoch 136/600\n",
      "426/426 [==============================] - 0s 878us/sample - loss: 0.0939 - val_loss: 0.0922\n",
      "Epoch 137/600\n",
      "426/426 [==============================] - 0s 793us/sample - loss: 0.0757 - val_loss: 0.0964\n",
      "Epoch 138/600\n",
      "426/426 [==============================] - 0s 953us/sample - loss: 0.0887 - val_loss: 0.1144\n",
      "Epoch 139/600\n",
      "426/426 [==============================] - 0s 826us/sample - loss: 0.0953 - val_loss: 0.0967\n",
      "Epoch 140/600\n",
      "426/426 [==============================] - 0s 852us/sample - loss: 0.0760 - val_loss: 0.0946\n",
      "Epoch 00140: early stopping\n"
     ]
    },
    {
     "data": {
      "text/plain": [
       "<tensorflow.python.keras.callbacks.History at 0x2533a073408>"
      ]
     },
     "execution_count": 16,
     "metadata": {},
     "output_type": "execute_result"
    }
   ],
   "source": [
    "model.fit(x=X_train,y=y_train,epochs=600,validation_data=(X_test,y_test),\n",
    "         callbacks=[early_stop,board])"
   ]
  },
  {
   "cell_type": "code",
   "execution_count": 17,
   "id": "41062cf7",
   "metadata": {},
   "outputs": [
    {
     "name": "stdout",
     "output_type": "stream",
     "text": [
      "logs\\fit\n"
     ]
    }
   ],
   "source": [
    "print(log_directory)"
   ]
  },
  {
   "cell_type": "code",
   "execution_count": 18,
   "id": "72d7ca62",
   "metadata": {},
   "outputs": [
    {
     "data": {
      "text/plain": [
       "'C:\\\\Users\\\\chris'"
      ]
     },
     "execution_count": 18,
     "metadata": {},
     "output_type": "execute_result"
    }
   ],
   "source": [
    "pwd"
   ]
  },
  {
   "cell_type": "code",
   "execution_count": null,
   "id": "4dd05b25",
   "metadata": {},
   "outputs": [],
   "source": []
  }
 ],
 "metadata": {
  "kernelspec": {
   "display_name": "Python 3 (ipykernel)",
   "language": "python",
   "name": "python3"
  },
  "language_info": {
   "codemirror_mode": {
    "name": "ipython",
    "version": 3
   },
   "file_extension": ".py",
   "mimetype": "text/x-python",
   "name": "python",
   "nbconvert_exporter": "python",
   "pygments_lexer": "ipython3",
   "version": "3.7.10"
  }
 },
 "nbformat": 4,
 "nbformat_minor": 5
}
